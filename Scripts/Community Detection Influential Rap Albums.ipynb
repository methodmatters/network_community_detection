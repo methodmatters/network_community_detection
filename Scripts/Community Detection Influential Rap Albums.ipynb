{
 "cells": [
  {
   "cell_type": "code",
   "execution_count": 1,
   "metadata": {},
   "outputs": [],
   "source": [
    "import pandas as pd\n",
    "import numpy as np\n",
    "%matplotlib inline"
   ]
  },
  {
   "cell_type": "markdown",
   "metadata": {},
   "source": [
    "# Step 1: Load the edge list data"
   ]
  },
  {
   "cell_type": "code",
   "execution_count": 2,
   "metadata": {},
   "outputs": [],
   "source": [
    "in_dir = 'D:\\\\Directory\\\\'"
   ]
  },
  {
   "cell_type": "code",
   "execution_count": 3,
   "metadata": {},
   "outputs": [
    {
     "data": {
      "text/plain": [
       "(831, 18)"
      ]
     },
     "execution_count": 3,
     "metadata": {},
     "output_type": "execute_result"
    }
   ],
   "source": [
    "edge_df = pd.read_csv(in_dir + 'edge_list_spacy_vectors_lg_clean.csv')\n",
    "edge_df.shape"
   ]
  },
  {
   "cell_type": "code",
   "execution_count": 4,
   "metadata": {},
   "outputs": [
    {
     "data": {
      "text/html": [
       "<div>\n",
       "<style scoped>\n",
       "    .dataframe tbody tr th:only-of-type {\n",
       "        vertical-align: middle;\n",
       "    }\n",
       "\n",
       "    .dataframe tbody tr th {\n",
       "        vertical-align: top;\n",
       "    }\n",
       "\n",
       "    .dataframe thead th {\n",
       "        text-align: right;\n",
       "    }\n",
       "</style>\n",
       "<table border=\"1\" class=\"dataframe\">\n",
       "  <thead>\n",
       "    <tr style=\"text-align: right;\">\n",
       "      <th></th>\n",
       "      <th>source_id</th>\n",
       "      <th>source_album</th>\n",
       "      <th>source_artist</th>\n",
       "      <th>source_score</th>\n",
       "      <th>source_year1</th>\n",
       "      <th>source_year2</th>\n",
       "      <th>target_id</th>\n",
       "      <th>target_album</th>\n",
       "      <th>target_artist</th>\n",
       "      <th>target_score</th>\n",
       "      <th>target_year1</th>\n",
       "      <th>target_year2</th>\n",
       "      <th>target_rank</th>\n",
       "      <th>cosine_sim</th>\n",
       "      <th>source_year_master</th>\n",
       "      <th>target_year_master</th>\n",
       "      <th>source_score_cut</th>\n",
       "      <th>target_score_cut</th>\n",
       "    </tr>\n",
       "  </thead>\n",
       "  <tbody>\n",
       "    <tr>\n",
       "      <td>0</td>\n",
       "      <td>22561</td>\n",
       "      <td>death certificate</td>\n",
       "      <td>ice cube</td>\n",
       "      <td>9.5</td>\n",
       "      <td>1991.0</td>\n",
       "      <td>NaN</td>\n",
       "      <td>20048</td>\n",
       "      <td>ferg forever</td>\n",
       "      <td>a$ap ferg</td>\n",
       "      <td>6.4</td>\n",
       "      <td>2014.0</td>\n",
       "      <td>NaN</td>\n",
       "      <td>1</td>\n",
       "      <td>0.994675</td>\n",
       "      <td>1991.0</td>\n",
       "      <td>2014.0</td>\n",
       "      <td>Great</td>\n",
       "      <td>Bad</td>\n",
       "    </tr>\n",
       "    <tr>\n",
       "      <td>1</td>\n",
       "      <td>22561</td>\n",
       "      <td>death certificate</td>\n",
       "      <td>ice cube</td>\n",
       "      <td>9.5</td>\n",
       "      <td>1991.0</td>\n",
       "      <td>NaN</td>\n",
       "      <td>18930</td>\n",
       "      <td>piata</td>\n",
       "      <td>madlib, freddie gibbs</td>\n",
       "      <td>8.0</td>\n",
       "      <td>2014.0</td>\n",
       "      <td>NaN</td>\n",
       "      <td>2</td>\n",
       "      <td>0.994550</td>\n",
       "      <td>1991.0</td>\n",
       "      <td>2014.0</td>\n",
       "      <td>Great</td>\n",
       "      <td>Great</td>\n",
       "    </tr>\n",
       "    <tr>\n",
       "      <td>2</td>\n",
       "      <td>22566</td>\n",
       "      <td>blunted on reality</td>\n",
       "      <td>fugees</td>\n",
       "      <td>7.6</td>\n",
       "      <td>1994.0</td>\n",
       "      <td>2016.0</td>\n",
       "      <td>5711</td>\n",
       "      <td>street's disciple</td>\n",
       "      <td>nas</td>\n",
       "      <td>7.2</td>\n",
       "      <td>2004.0</td>\n",
       "      <td>NaN</td>\n",
       "      <td>1</td>\n",
       "      <td>0.989205</td>\n",
       "      <td>1994.0</td>\n",
       "      <td>2004.0</td>\n",
       "      <td>Good</td>\n",
       "      <td>Good</td>\n",
       "    </tr>\n",
       "    <tr>\n",
       "      <td>3</td>\n",
       "      <td>22566</td>\n",
       "      <td>blunted on reality</td>\n",
       "      <td>fugees</td>\n",
       "      <td>7.6</td>\n",
       "      <td>1994.0</td>\n",
       "      <td>2016.0</td>\n",
       "      <td>13373</td>\n",
       "      <td>slaughterhouse</td>\n",
       "      <td>slaughterhouse</td>\n",
       "      <td>5.5</td>\n",
       "      <td>2009.0</td>\n",
       "      <td>NaN</td>\n",
       "      <td>2</td>\n",
       "      <td>0.987979</td>\n",
       "      <td>1994.0</td>\n",
       "      <td>2009.0</td>\n",
       "      <td>Good</td>\n",
       "      <td>Bad</td>\n",
       "    </tr>\n",
       "    <tr>\n",
       "      <td>4</td>\n",
       "      <td>22132</td>\n",
       "      <td>things fall apart</td>\n",
       "      <td>the roots</td>\n",
       "      <td>9.4</td>\n",
       "      <td>1999.0</td>\n",
       "      <td>NaN</td>\n",
       "      <td>4331</td>\n",
       "      <td>power in numbers</td>\n",
       "      <td>jurassic 5</td>\n",
       "      <td>7.1</td>\n",
       "      <td>2002.0</td>\n",
       "      <td>NaN</td>\n",
       "      <td>1</td>\n",
       "      <td>0.992334</td>\n",
       "      <td>1999.0</td>\n",
       "      <td>2002.0</td>\n",
       "      <td>Great</td>\n",
       "      <td>Good</td>\n",
       "    </tr>\n",
       "  </tbody>\n",
       "</table>\n",
       "</div>"
      ],
      "text/plain": [
       "   source_id        source_album source_artist  source_score  source_year1  \\\n",
       "0      22561   death certificate      ice cube           9.5        1991.0   \n",
       "1      22561   death certificate      ice cube           9.5        1991.0   \n",
       "2      22566  blunted on reality        fugees           7.6        1994.0   \n",
       "3      22566  blunted on reality        fugees           7.6        1994.0   \n",
       "4      22132   things fall apart     the roots           9.4        1999.0   \n",
       "\n",
       "   source_year2  target_id       target_album          target_artist  \\\n",
       "0           NaN      20048       ferg forever              a$ap ferg   \n",
       "1           NaN      18930              piata  madlib, freddie gibbs   \n",
       "2        2016.0       5711  street's disciple                    nas   \n",
       "3        2016.0      13373     slaughterhouse         slaughterhouse   \n",
       "4           NaN       4331   power in numbers             jurassic 5   \n",
       "\n",
       "   target_score  target_year1  target_year2  target_rank  cosine_sim  \\\n",
       "0           6.4        2014.0           NaN            1    0.994675   \n",
       "1           8.0        2014.0           NaN            2    0.994550   \n",
       "2           7.2        2004.0           NaN            1    0.989205   \n",
       "3           5.5        2009.0           NaN            2    0.987979   \n",
       "4           7.1        2002.0           NaN            1    0.992334   \n",
       "\n",
       "   source_year_master  target_year_master source_score_cut target_score_cut  \n",
       "0              1991.0              2014.0            Great              Bad  \n",
       "1              1991.0              2014.0            Great            Great  \n",
       "2              1994.0              2004.0             Good             Good  \n",
       "3              1994.0              2009.0             Good              Bad  \n",
       "4              1999.0              2002.0            Great             Good  "
      ]
     },
     "execution_count": 4,
     "metadata": {},
     "output_type": "execute_result"
    }
   ],
   "source": [
    "edge_df.head()"
   ]
  },
  {
   "cell_type": "markdown",
   "metadata": {},
   "source": [
    "# Step 2: Make the graph object with networkx"
   ]
  },
  {
   "cell_type": "code",
   "execution_count": 5,
   "metadata": {},
   "outputs": [],
   "source": [
    "import networkx as nx"
   ]
  },
  {
   "cell_type": "code",
   "execution_count": 6,
   "metadata": {},
   "outputs": [
    {
     "data": {
      "text/plain": [
       "815"
      ]
     },
     "execution_count": 6,
     "metadata": {},
     "output_type": "execute_result"
    }
   ],
   "source": [
    "# make the networkx graph object: directed graph\n",
    "g = nx.from_pandas_edgelist(edge_df, 'source_album', \n",
    "                            'target_album', \n",
    "                            edge_attr='cosine_sim')\n",
    "len(g.nodes())"
   ]
  },
  {
   "cell_type": "markdown",
   "metadata": {},
   "source": [
    "# Step 3: Community detection with the Louvain algorithm"
   ]
  },
  {
   "cell_type": "code",
   "execution_count": 7,
   "metadata": {},
   "outputs": [],
   "source": [
    "# https://python-louvain.readthedocs.io/en/latest/index.html\n",
    "# https://python-louvain.readthedocs.io/en/latest/\n",
    "# https://medium.com/@adityagandhi.7/network-analysis-and-community-structure-for-market-surveillance-using-python-networkx-65413e7b7fee\n",
    "# https://github.com/adityagandhi7/community_structure/blob/master/test_chat_v1.ipynb\n",
    "import community"
   ]
  },
  {
   "cell_type": "code",
   "execution_count": 8,
   "metadata": {},
   "outputs": [],
   "source": [
    "#first compute the best partition\n",
    "partition_object = community.best_partition(g)"
   ]
  },
  {
   "cell_type": "code",
   "execution_count": 9,
   "metadata": {},
   "outputs": [
    {
     "data": {
      "text/plain": [
       "815"
      ]
     },
     "execution_count": 9,
     "metadata": {},
     "output_type": "execute_result"
    }
   ],
   "source": [
    "# we should have 1 entry per node\n",
    "# and we do\n",
    "len(partition_object)"
   ]
  },
  {
   "cell_type": "code",
   "execution_count": 10,
   "metadata": {},
   "outputs": [
    {
     "data": {
      "text/plain": [
       "[('death certificate', 0),\n",
       " ('ferg forever', 0),\n",
       " ('piata', 0),\n",
       " ('blunted on reality', 1),\n",
       " (\"street's disciple\", 1),\n",
       " ('slaughterhouse', 1),\n",
       " ('things fall apart', 1),\n",
       " ('power in numbers', 1),\n",
       " ('right about now: the official sucka free mixtape', 1),\n",
       " ('buhloone mindstate', 2)]"
      ]
     },
     "execution_count": 10,
     "metadata": {},
     "output_type": "execute_result"
    }
   ],
   "source": [
    "# first elements of the partition dictionary\n",
    "# this is a mapping between album and community\n",
    "list(partition_object.items())[0:10] "
   ]
  },
  {
   "cell_type": "markdown",
   "metadata": {},
   "source": [
    "# Step 4: Add meta-data to networkx graph object for plotting"
   ]
  },
  {
   "cell_type": "code",
   "execution_count": 11,
   "metadata": {},
   "outputs": [],
   "source": [
    "# extract the communities for each album \n",
    "values = [partition_object.get(node) for node in g.nodes()]"
   ]
  },
  {
   "cell_type": "code",
   "execution_count": 12,
   "metadata": {},
   "outputs": [
    {
     "name": "stdout",
     "output_type": "stream",
     "text": [
      "[0, 0, 0, 1, 1, 1, 1, 1, 1, 2]\n"
     ]
    }
   ],
   "source": [
    "print(values[0:10])"
   ]
  },
  {
   "cell_type": "code",
   "execution_count": 13,
   "metadata": {},
   "outputs": [
    {
     "data": {
      "text/plain": [
       "89"
      ]
     },
     "execution_count": 13,
     "metadata": {},
     "output_type": "execute_result"
    }
   ],
   "source": [
    "len(set(values))"
   ]
  },
  {
   "cell_type": "code",
   "execution_count": 14,
   "metadata": {},
   "outputs": [],
   "source": [
    "# define a list of 95 different colors\n",
    "# generated with the site: iwanthue (https://medialab.github.io/iwanthue/)\n",
    "color_list = [\"#0157a1\", \"#77f431\", \"#000cb3\", \"#e4ff3f\",\n",
    "\"#6213c6\", \"#1abd00\", \"#ab39eb\", \"#00c932\", \"#e232e8\",\n",
    "\"#2a9b00\", \"#975bff\", \"#aecf00\", \"#01119c\", \"#ffe02b\",\n",
    "\"#5565ff\", \"#c1ff73\", \"#a5009f\", \"#00ca5f\", \"#ff64e7\",\n",
    "\"#43ffa5\", \"#f60095\", \"#76ffa5\", \"#ff50c9\", \"#a0ffa4\",\n",
    "\"#3a0067\", \"#f6ff7f\", \"#00216e\", \"#e5bc00\", \"#e378ff\",\n",
    "\"#aab000\", \"#828bff\", \"#ff7910\", \"#0281e2\", \"#e08900\",\n",
    "\"#019def\", \"#ff3f2b\", \"#01e0d3\", \"#da0120\", \"#03bde6\",\n",
    "\"#d04b00\", \"#819cff\", \"#648e00\", \"#ff46ad\", \"#018436\",\n",
    "\"#b40078\", \"#01a165\", \"#ca0067\", \"#3d7900\", \"#640063\",\n",
    "\"#f2ffa5\", \"#16003e\", \"#f3ffbe\", \"#0f002d\", \"#ffd580\",\n",
    "\"#000c26\", \"#ff6b47\", \"#01ad92\", \"#ff5552\", \"#85e2ff\",\n",
    "\"#b5002d\", \"#b4ffec\", \"#8e0023\", \"#e4ffe9\", \"#82004f\",\n",
    "\"#667000\", \"#feaaff\", \"#284f00\", \"#b8a8ff\", \"#8d6d00\",\n",
    "\"#8dbfff\", \"#724200\", \"#0174ae\", \"#ff4f70\", \"#00512a\",\n",
    "\"#ff9acb\", \"#0f2a00\", \"#ffedfe\", \"#000a05\", \"#f9fffd\",\n",
    "\"#280e00\", \"#c9f1ff\", \"#6b001f\", \"#e3d2ff\", \"#571800\",\n",
    "\"#ffdec2\", \"#003361\", \"#ff8a77\", \"#00353c\", \"#ff839a\",\n",
    "\"#018093\", \"#ffb094\", \"#00506d\", \"#ffbeb9\", \"#371400\",\n",
    "\"#342c00\"]"
   ]
  },
  {
   "cell_type": "code",
   "execution_count": 15,
   "metadata": {},
   "outputs": [
    {
     "data": {
      "text/plain": [
       "95"
      ]
     },
     "execution_count": 15,
     "metadata": {},
     "output_type": "execute_result"
    }
   ],
   "source": [
    "len(color_list)"
   ]
  },
  {
   "cell_type": "code",
   "execution_count": 16,
   "metadata": {},
   "outputs": [
    {
     "data": {
      "text/plain": [
       "89"
      ]
     },
     "execution_count": 16,
     "metadata": {},
     "output_type": "execute_result"
    }
   ],
   "source": [
    "len(set(values))"
   ]
  },
  {
   "cell_type": "code",
   "execution_count": 17,
   "metadata": {},
   "outputs": [
    {
     "data": {
      "text/plain": [
       "89"
      ]
     },
     "execution_count": 17,
     "metadata": {},
     "output_type": "execute_result"
    }
   ],
   "source": [
    "# the community algorithm creates around 88-92 communities\n",
    "# (there is some randomness to the algorithm)\n",
    "# we select as many colors as there are communities:\n",
    "color_list = color_list[0:len(set(values))]\n",
    "len(color_list)"
   ]
  },
  {
   "cell_type": "code",
   "execution_count": 18,
   "metadata": {},
   "outputs": [],
   "source": [
    "# and we make a dictionary where we map each\n",
    "# community number to a specific color code\n",
    "color_dict = pd.Series(color_list,\n",
    "        index=np.arange(0,len(set(values)))).to_dict()"
   ]
  },
  {
   "cell_type": "code",
   "execution_count": 19,
   "metadata": {},
   "outputs": [
    {
     "data": {
      "text/plain": [
       "[(0, '#0157a1'),\n",
       " (1, '#77f431'),\n",
       " (2, '#000cb3'),\n",
       " (3, '#e4ff3f'),\n",
       " (4, '#6213c6'),\n",
       " (5, '#1abd00'),\n",
       " (6, '#ab39eb'),\n",
       " (7, '#00c932'),\n",
       " (8, '#e232e8'),\n",
       " (9, '#2a9b00')]"
      ]
     },
     "execution_count": 19,
     "metadata": {},
     "output_type": "execute_result"
    }
   ],
   "source": [
    "# here are the community-color mappings\n",
    "# for the first 10 communities\n",
    "list(color_dict.items())[0:10] "
   ]
  },
  {
   "cell_type": "code",
   "execution_count": 20,
   "metadata": {},
   "outputs": [],
   "source": [
    "# use the color dictionary to update the partition object:\n",
    "# we replace the number of the community with the\n",
    "# color hex code\n",
    "for key, value in partition_object.items():\n",
    "    partition_object[key] = color_dict[value]"
   ]
  },
  {
   "cell_type": "code",
   "execution_count": 21,
   "metadata": {},
   "outputs": [
    {
     "data": {
      "text/plain": [
       "[('death certificate', '#0157a1'),\n",
       " ('ferg forever', '#0157a1'),\n",
       " ('piata', '#0157a1'),\n",
       " ('blunted on reality', '#77f431'),\n",
       " (\"street's disciple\", '#77f431'),\n",
       " ('slaughterhouse', '#77f431'),\n",
       " ('things fall apart', '#77f431'),\n",
       " ('power in numbers', '#77f431'),\n",
       " ('right about now: the official sucka free mixtape', '#77f431'),\n",
       " ('buhloone mindstate', '#000cb3')]"
      ]
     },
     "execution_count": 21,
     "metadata": {},
     "output_type": "execute_result"
    }
   ],
   "source": [
    "# the partition object now maps each album to \n",
    "# the color for its community\n",
    "list(partition_object.items())[0:10] "
   ]
  },
  {
   "cell_type": "code",
   "execution_count": 22,
   "metadata": {},
   "outputs": [],
   "source": [
    "# set the node attribute color in networkx object\n",
    "# using the above mapping\n",
    "nx.set_node_attributes(g, partition_object, 'color')"
   ]
  },
  {
   "cell_type": "code",
   "execution_count": 23,
   "metadata": {},
   "outputs": [
    {
     "data": {
      "text/plain": [
       "{'color': '#0157a1'}"
      ]
     },
     "execution_count": 23,
     "metadata": {},
     "output_type": "execute_result"
    }
   ],
   "source": [
    "g.nodes['death certificate']"
   ]
  },
  {
   "cell_type": "code",
   "execution_count": 24,
   "metadata": {},
   "outputs": [],
   "source": [
    "# make dictionaries for source and target artists\n",
    "source_artist_dict = pd.Series((edge_df.source_artist + \" (\" + edge_df.source_year_master.astype(int).astype(str) + \")\").values,index=edge_df.source_album).to_dict()\n",
    "target_artist_dict = pd.Series((edge_df.target_artist + \" (\" + edge_df.target_year_master.astype(int).astype(str) + \")\").values,index=edge_df.target_album).to_dict()\n",
    "\n",
    "# concatenate the dictionaries\n",
    "# https://stackoverflow.com/questions/38987/how-do-i-merge-two-dictionaries-in-a-single-expression\n",
    "master_artist_dict = {**source_artist_dict, **target_artist_dict}"
   ]
  },
  {
   "cell_type": "code",
   "execution_count": 25,
   "metadata": {},
   "outputs": [
    {
     "data": {
      "text/plain": [
       "('death certificate', 'ice cube (1991)')"
      ]
     },
     "execution_count": 25,
     "metadata": {},
     "output_type": "execute_result"
    }
   ],
   "source": [
    "# first element of the dictionary\n",
    "list(master_artist_dict.items())[0] "
   ]
  },
  {
   "cell_type": "code",
   "execution_count": 26,
   "metadata": {},
   "outputs": [],
   "source": [
    "# set the node title attribute  \n",
    "# using the above dictionary mapping\n",
    "nx.set_node_attributes(g, master_artist_dict, 'title')"
   ]
  },
  {
   "cell_type": "code",
   "execution_count": 27,
   "metadata": {},
   "outputs": [
    {
     "data": {
      "text/plain": [
       "{'color': '#0157a1', 'title': 'ice cube (1991)'}"
      ]
     },
     "execution_count": 27,
     "metadata": {},
     "output_type": "execute_result"
    }
   ],
   "source": [
    "g.nodes['death certificate']"
   ]
  },
  {
   "cell_type": "markdown",
   "metadata": {},
   "source": [
    "# Make the interactive network visualization with pyvis, color by community"
   ]
  },
  {
   "cell_type": "code",
   "execution_count": 28,
   "metadata": {},
   "outputs": [],
   "source": [
    "# https://gist.github.com/maciejkos/e3bc958aac9e7a245dddff8d86058e17\n",
    "def draw_graph3(networkx_graph,notebook=True,output_filename='graph.html',show_buttons=True,only_physics_buttons=False,\n",
    "                height=None,width=None,bgcolor=None,font_color=None,pyvis_options=None):\n",
    "    \"\"\"\n",
    "    This function accepts a networkx graph object,\n",
    "    converts it to a pyvis network object preserving its node and edge attributes,\n",
    "    and both returns and saves a dynamic network visualization.\n",
    "    Valid node attributes include:\n",
    "        \"size\", \"value\", \"title\", \"x\", \"y\", \"label\", \"color\".\n",
    "        (For more info: https://pyvis.readthedocs.io/en/latest/documentation.html#pyvis.network.Network.add_node)\n",
    "    Valid edge attributes include:\n",
    "        \"arrowStrikethrough\", \"hidden\", \"physics\", \"title\", \"value\", \"width\"\n",
    "        (For more info: https://pyvis.readthedocs.io/en/latest/documentation.html#pyvis.network.Network.add_edge)\n",
    "    Args:\n",
    "        networkx_graph: The graph to convert and display\n",
    "        notebook: Display in Jupyter?\n",
    "        output_filename: Where to save the converted network\n",
    "        show_buttons: Show buttons in saved version of network?\n",
    "        only_physics_buttons: Show only buttons controlling physics of network?\n",
    "        height: height in px or %, e.g, \"750px\" or \"100%\n",
    "        width: width in px or %, e.g, \"750px\" or \"100%\n",
    "        bgcolor: background color, e.g., \"black\" or \"#222222\"\n",
    "        font_color: font color,  e.g., \"black\" or \"#222222\"\n",
    "        pyvis_options: provide pyvis-specific options (https://pyvis.readthedocs.io/en/latest/documentation.html#pyvis.options.Options.set)\n",
    "    \"\"\"\n",
    "\n",
    "    # import\n",
    "    from pyvis import network as net\n",
    "\n",
    "    # make a pyvis network\n",
    "    network_class_parameters = {\"notebook\": notebook, \"height\": height, \"width\": width, \"bgcolor\": bgcolor, \"font_color\": font_color}\n",
    "    pyvis_graph = net.Network(**{parameter_name: parameter_value for parameter_name, parameter_value in network_class_parameters.items() if parameter_value})\n",
    "\n",
    "    # for each node and its attributes in the networkx graph\n",
    "    for node,node_attrs in networkx_graph.nodes(data=True):\n",
    "        pyvis_graph.add_node(node,**node_attrs)\n",
    "\n",
    "    # for each edge and its attributes in the networkx graph\n",
    "    for source,target,edge_attrs in networkx_graph.edges(data=True):\n",
    "        # if value/width not specified directly, and weight is specified, set 'value' to 'weight'\n",
    "        if not 'value' in edge_attrs and not 'width' in edge_attrs and 'weight' in edge_attrs:\n",
    "            # place at key 'value' the weight of the edge\n",
    "            edge_attrs['value']=edge_attrs['weight']\n",
    "        # add the edge\n",
    "        pyvis_graph.add_edge(source,target,**edge_attrs)\n",
    "\n",
    "    # turn buttons on\n",
    "    if show_buttons:\n",
    "        if only_physics_buttons:\n",
    "            pyvis_graph.show_buttons(filter_=['physics'])\n",
    "        else:\n",
    "            pyvis_graph.show_buttons()\n",
    "\n",
    "    # pyvis-specific options\n",
    "    if pyvis_options:\n",
    "        pyvis_graph.set_options(pyvis_options)\n",
    "\n",
    "    # return and also save\n",
    "    return pyvis_graph.show(output_filename)"
   ]
  },
  {
   "cell_type": "code",
   "execution_count": 29,
   "metadata": {
    "scrolled": false
   },
   "outputs": [
    {
     "data": {
      "text/html": [
       "\n",
       "        <iframe\n",
       "            width=\"1000px\"\n",
       "            height=\"1000px\"\n",
       "            src=\"graph_output_communities.html\"\n",
       "            frameborder=\"0\"\n",
       "            allowfullscreen\n",
       "        ></iframe>\n",
       "        "
      ],
      "text/plain": [
       "<IPython.lib.display.IFrame at 0x24d271bf108>"
      ]
     },
     "execution_count": 29,
     "metadata": {},
     "output_type": "execute_result"
    }
   ],
   "source": [
    "# make the pyviz interactive plot\n",
    "# this will save out an html file to the directory\n",
    "# where this script is\n",
    "# plot will also be shown in the notebook\n",
    "draw_graph3(g, height = '1000px', width = '1000px', \n",
    "            show_buttons=False,  \n",
    "            output_filename='graph_output_communities.html', notebook=True)"
   ]
  }
 ],
 "metadata": {
  "kernelspec": {
   "display_name": "Python 3",
   "language": "python",
   "name": "python3"
  },
  "language_info": {
   "codemirror_mode": {
    "name": "ipython",
    "version": 3
   },
   "file_extension": ".py",
   "mimetype": "text/x-python",
   "name": "python",
   "nbconvert_exporter": "python",
   "pygments_lexer": "ipython3",
   "version": "3.7.4"
  }
 },
 "nbformat": 4,
 "nbformat_minor": 2
}
